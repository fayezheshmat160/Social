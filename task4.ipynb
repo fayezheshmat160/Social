{
 "cells": [
  {
   "cell_type": "code",
   "execution_count": 1,
   "id": "e2d3a9a4-2246-44bd-b90c-8088c3a80202",
   "metadata": {},
   "outputs": [],
   "source": [
    "%matplotlib inline\n",
    "import networkx as nx"
   ]
  },
  {
   "cell_type": "code",
   "execution_count": 3,
   "id": "ad11a5ac-e4fe-4ca8-835b-01ee41cadeb9",
   "metadata": {},
   "outputs": [
    {
     "name": "stdout",
     "output_type": "stream",
     "text": [
      "Graph with 143 nodes and 623 edges\n"
     ]
    },
    {
     "data": {
      "image/png": "[encoded data removed]",
      "text/plain": [
       "<Figure size 432x288 with 1 Axes>"
      ]
     },
     "metadata": {},
     "output_type": "display_data"
    }
   ],
   "source": [
    "G = nx.read_edgelist('./datasets/ia-enron-only/ia-enron-only.edges', nodetype=int)\n",
    "print(nx.info(G))\n",
    "nx.draw(G)"
   ]
  },
  {
   "cell_type": "code",
   "execution_count": 4,
   "id": "8d6f2aeb-41aa-4d8c-adf3-375e0e0b70bf",
   "metadata": {},
   "outputs": [
    {
     "data": {
      "text/plain": [
       "5"
      ]
     },
     "execution_count": 4,
     "metadata": {},
     "output_type": "execute_result"
    }
   ],
   "source": [
    "max([1,2,3,4,5])"
   ]
  },
  {
   "cell_type": "code",
   "execution_count": 5,
   "id": "b9b93946-8445-49f5-b8c8-668d77a0c53c",
   "metadata": {},
   "outputs": [
    {
     "data": {
      "text/plain": [
       "'grape'"
      ]
     },
     "execution_count": 5,
     "metadata": {},
     "output_type": "execute_result"
    }
   ],
   "source": [
    "max(['apple', 'grape', 'carrot'])"
   ]
  },
  {
   "cell_type": "code",
   "execution_count": 6,
   "id": "04f0bdf2-0c52-45f0-8744-9d3dc709b864",
   "metadata": {},
   "outputs": [
    {
     "data": {
      "text/plain": [
       "'carrot'"
      ]
     },
     "execution_count": 6,
     "metadata": {},
     "output_type": "execute_result"
    }
   ],
   "source": [
    "max(['apple', 'grape', 'carrot'], key=len)"
   ]
  },
  {
   "cell_type": "code",
   "execution_count": 7,
   "id": "b91680fe-491f-47b3-9aef-8928d1a1ff8f",
   "metadata": {},
   "outputs": [
    {
     "data": {
      "text/plain": [
       "105"
      ]
     },
     "execution_count": 7,
     "metadata": {},
     "output_type": "execute_result"
    }
   ],
   "source": [
    "highest_degree_node = max(G.nodes, key=G.degree)\n",
    "highest_degree_node"
   ]
  },
  {
   "cell_type": "code",
   "execution_count": 8,
   "id": "c76f7ec4-6e49-4a69-be76-1f03815acaf7",
   "metadata": {},
   "outputs": [
    {
     "data": {
      "text/plain": [
       "42"
      ]
     },
     "execution_count": 8,
     "metadata": {},
     "output_type": "execute_result"
    }
   ],
   "source": [
    "G.degree(highest_degree_node)"
   ]
  },
  {
   "cell_type": "code",
   "execution_count": 9,
   "id": "0901b5ad-fa2f-41b0-ac04-a38411a3c713",
   "metadata": {},
   "outputs": [
    {
     "data": {
      "text/plain": [
       "105"
      ]
     },
     "execution_count": 9,
     "metadata": {},
     "output_type": "execute_result"
    }
   ],
   "source": [
    "betweenness = nx.centrality.betweenness_centrality(G)\n",
    "highest_betweenness_node = max(G.nodes, key=betweenness.get)\n",
    "highest_betweenness_node"
   ]
  },
  {
   "cell_type": "code",
   "execution_count": 10,
   "id": "258922bb-6bdb-450b-973a-10f6b70379cc",
   "metadata": {},
   "outputs": [
    {
     "data": {
      "text/plain": [
       "0.19400604344556296"
      ]
     },
     "execution_count": 10,
     "metadata": {},
     "output_type": "execute_result"
    }
   ],
   "source": [
    "betweenness[highest_betweenness_node]"
   ]
  },
  {
   "cell_type": "code",
   "execution_count": 11,
   "id": "ec44df40-d2af-42dd-a747-bea05aaf77ba",
   "metadata": {},
   "outputs": [],
   "source": [
    "degree_sequence = [G.degree(n) for n in G.nodes]"
   ]
  },
  {
   "cell_type": "code",
   "execution_count": 12,
   "id": "54d6fa62-3113-40bc-a471-f00481701a4c",
   "metadata": {},
   "outputs": [
    {
     "name": "stdout",
     "output_type": "stream",
     "text": [
      "Mean degree: 8.713286713286713\n",
      "Median degree: 8\n"
     ]
    }
   ],
   "source": [
    "import statistics\n",
    "\n",
    "print('Mean degree:', statistics.mean(degree_sequence))\n",
    "print('Median degree:', statistics.median(degree_sequence))"
   ]
  },
  {
   "cell_type": "code",
   "execution_count": 13,
   "id": "f60b809f-1c57-4fa2-bc7c-201645ab116e",
   "metadata": {},
   "outputs": [
    {
     "name": "stdout",
     "output_type": "stream",
     "text": [
      "Mean betweenness: 0.013950388838012454\n",
      "Median betweenness: 0.0037492834763570323\n"
     ]
    }
   ],
   "source": [
    "betweenness = nx.centrality.betweenness_centrality(G)\n",
    "betweenness_sequence = list(betweenness.values())\n",
    "\n",
    "print('Mean betweenness:', statistics.mean(betweenness_sequence))\n",
    "print('Median betweenness:', statistics.median(betweenness_sequence))"
   ]
  },
  {
   "cell_type": "code",
   "execution_count": 14,
   "id": "d3265148-d8b9-4cb5-86d2-10b891cdffb4",
   "metadata": {},
   "outputs": [
    {
     "data": {
      "text/plain": [
       "Counter({30: 1,\n",
       "         2: 16,\n",
       "         17: 5,\n",
       "         12: 5,\n",
       "         13: 3,\n",
       "         16: 5,\n",
       "         10: 9,\n",
       "         11: 10,\n",
       "         18: 3,\n",
       "         20: 1,\n",
       "         15: 3,\n",
       "         19: 2,\n",
       "         7: 9,\n",
       "         14: 6,\n",
       "         9: 16,\n",
       "         42: 1,\n",
       "         8: 6,\n",
       "         5: 8,\n",
       "         6: 7,\n",
       "         1: 6,\n",
       "         4: 11,\n",
       "         23: 1,\n",
       "         3: 9})"
      ]
     },
     "execution_count": 14,
     "metadata": {},
     "output_type": "execute_result"
    }
   ],
   "source": [
    "from collections import Counter\n",
    "\n",
    "degree_counts = Counter(degree_sequence)\n",
    "degree_counts"
   ]
  },
  {
   "cell_type": "code",
   "execution_count": 15,
   "id": "3fb19180-b92d-4275-ba0a-e19f451f009e",
   "metadata": {},
   "outputs": [],
   "source": [
    "min_degree, max_degree = min(degree_counts.keys()), max(degree_counts.keys())\n",
    "\n",
    "plot_x = list(range(min_degree, max_degree + 1))"
   ]
  },
  {
   "cell_type": "code",
   "execution_count": 16,
   "id": "022f88de-90fa-413f-ad6c-1689b1ad67e6",
   "metadata": {},
   "outputs": [],
   "source": [
    "plot_y = [degree_counts.get(x, 0) for x in plot_x]"
   ]
  },
  {
   "cell_type": "code",
   "execution_count": 17,
   "id": "9433d9f9-1ecc-426d-a0d0-337e6bfb3efc",
   "metadata": {},
   "outputs": [
    {
     "data": {
      "text/plain": [
       "<BarContainer object of 42 artists>"
      ]
     },
     "execution_count": 17,
     "metadata": {},
     "output_type": "execute_result"
    },
    {
     "data": {
      "image/png": "[encoded data removed]",
      "text/plain": [
       "<Figure size 432x288 with 1 Axes>"
      ]
     },
     "metadata": {
      "needs_background": "light"
     },
     "output_type": "display_data"
    }
   ],
   "source": [
    "import matplotlib.pyplot as plt\n",
    "\n",
    "plt.bar(plot_x, plot_y)"
   ]
  },
  {
   "cell_type": "code",
   "execution_count": 18,
   "id": "7e7fbf7a-57cf-460f-b202-1c431d47c497",
   "metadata": {},
   "outputs": [
    {
     "data": {
      "image/png": "[encoded data removed]",
      "text/plain": [
       "<Figure size 432x288 with 1 Axes>"
      ]
     },
     "metadata": {
      "needs_background": "light"
     },
     "output_type": "display_data"
    }
   ],
   "source": [
    "counts, bins, patches = plt.hist(betweenness_sequence, bins=10)"
   ]
  },
  {
   "cell_type": "code",
   "execution_count": 19,
   "id": "c21069c4-6b02-4a9b-a28e-c837651f41d3",
   "metadata": {},
   "outputs": [
    {
     "data": {
      "text/plain": [
       "array([0.        , 0.0194006 , 0.03880121, 0.05820181, 0.07760242,\n",
       "       0.09700302, 0.11640363, 0.13580423, 0.15520483, 0.17460544,\n",
       "       0.19400604])"
      ]
     },
     "execution_count": 19,
     "metadata": {},
     "output_type": "execute_result"
    }
   ],
   "source": [
    "bins"
   ]
  },
  {
   "cell_type": "code",
   "execution_count": 20,
   "id": "7af7742c-87f4-4552-9e4c-b3e7fe7e9494",
   "metadata": {},
   "outputs": [
    {
     "data": {
      "text/plain": [
       "array([115.,  13.,   6.,   4.,   3.,   1.,   0.,   0.,   0.,   1.])"
      ]
     },
     "execution_count": 20,
     "metadata": {},
     "output_type": "execute_result"
    }
   ],
   "source": [
    "counts"
   ]
  },
  {
   "cell_type": "code",
   "execution_count": 21,
   "id": "2084c719-64db-43aa-b340-551640f3522d",
   "metadata": {},
   "outputs": [
    {
     "data": {
      "text/plain": [
       "<generator object connected_components at 0x000001FBA5BF0350>"
      ]
     },
     "execution_count": 21,
     "metadata": {},
     "output_type": "execute_result"
    }
   ],
   "source": [
    "nx.connected_components(G)"
   ]
  },
  {
   "cell_type": "code",
   "execution_count": 22,
   "id": "8b406cf8-c210-4bd3-b73f-4a856138db08",
   "metadata": {},
   "outputs": [
    {
     "data": {
      "text/plain": [
       "{1,\n",
       " 2,\n",
       " 3,\n",
       " 4,\n",
       " 5,\n",
       " 6,\n",
       " 7,\n",
       " 8,\n",
       " 9,\n",
       " 10,\n",
       " 11,\n",
       " 12,\n",
       " 13,\n",
       " 14,\n",
       " 15,\n",
       " 16,\n",
       " 17,\n",
       " 18,\n",
       " 19,\n",
       " 20,\n",
       " 21,\n",
       " 22,\n",
       " 23,\n",
       " 24,\n",
       " 25,\n",
       " 26,\n",
       " 27,\n",
       " 28,\n",
       " 29,\n",
       " 30,\n",
       " 31,\n",
       " 32,\n",
       " 33,\n",
       " 34,\n",
       " 35,\n",
       " 36,\n",
       " 37,\n",
       " 38,\n",
       " 39,\n",
       " 40,\n",
       " 41,\n",
       " 42,\n",
       " 43,\n",
       " 44,\n",
       " 45,\n",
       " 46,\n",
       " 47,\n",
       " 48,\n",
       " 49,\n",
       " 50,\n",
       " 51,\n",
       " 52,\n",
       " 53,\n",
       " 54,\n",
       " 55,\n",
       " 56,\n",
       " 57,\n",
       " 58,\n",
       " 59,\n",
       " 60,\n",
       " 61,\n",
       " 62,\n",
       " 63,\n",
       " 64,\n",
       " 65,\n",
       " 66,\n",
       " 67,\n",
       " 68,\n",
       " 69,\n",
       " 70,\n",
       " 71,\n",
       " 72,\n",
       " 73,\n",
       " 74,\n",
       " 75,\n",
       " 76,\n",
       " 77,\n",
       " 78,\n",
       " 79,\n",
       " 80,\n",
       " 81,\n",
       " 82,\n",
       " 83,\n",
       " 84,\n",
       " 85,\n",
       " 86,\n",
       " 87,\n",
       " 88,\n",
       " 89,\n",
       " 90,\n",
       " 91,\n",
       " 92,\n",
       " 93,\n",
       " 94,\n",
       " 95,\n",
       " 96,\n",
       " 97,\n",
       " 98,\n",
       " 99,\n",
       " 100,\n",
       " 101,\n",
       " 102,\n",
       " 103,\n",
       " 104,\n",
       " 105,\n",
       " 106,\n",
       " 107,\n",
       " 108,\n",
       " 109,\n",
       " 110,\n",
       " 111,\n",
       " 112,\n",
       " 113,\n",
       " 114,\n",
       " 115,\n",
       " 116,\n",
       " 117,\n",
       " 118,\n",
       " 119,\n",
       " 120,\n",
       " 121,\n",
       " 122,\n",
       " 123,\n",
       " 124,\n",
       " 125,\n",
       " 126,\n",
       " 127,\n",
       " 128,\n",
       " 129,\n",
       " 130,\n",
       " 131,\n",
       " 132,\n",
       " 133,\n",
       " 134,\n",
       " 135,\n",
       " 136,\n",
       " 137,\n",
       " 138,\n",
       " 139,\n",
       " 140,\n",
       " 141,\n",
       " 142,\n",
       " 143}"
      ]
     },
     "execution_count": 22,
     "metadata": {},
     "output_type": "execute_result"
    }
   ],
   "source": [
    "core = next(nx.connected_components(G))\n",
    "core"
   ]
  },
  {
   "cell_type": "code",
   "execution_count": 23,
   "id": "c9ce10f0-5069-41dd-9e4b-a38c5fd3687f",
   "metadata": {},
   "outputs": [
    {
     "data": {
      "text/plain": [
       "{1,\n",
       " 2,\n",
       " 3,\n",
       " 4,\n",
       " 5,\n",
       " 6,\n",
       " 7,\n",
       " 8,\n",
       " 9,\n",
       " 10,\n",
       " 11,\n",
       " 12,\n",
       " 13,\n",
       " 14,\n",
       " 15,\n",
       " 16,\n",
       " 17,\n",
       " 18,\n",
       " 19,\n",
       " 20,\n",
       " 21,\n",
       " 22,\n",
       " 23,\n",
       " 24,\n",
       " 25,\n",
       " 26,\n",
       " 27,\n",
       " 28,\n",
       " 29,\n",
       " 30,\n",
       " 31,\n",
       " 32,\n",
       " 33,\n",
       " 34,\n",
       " 35,\n",
       " 36,\n",
       " 37,\n",
       " 38,\n",
       " 39,\n",
       " 40,\n",
       " 41,\n",
       " 42,\n",
       " 43,\n",
       " 44,\n",
       " 45,\n",
       " 46,\n",
       " 47,\n",
       " 48,\n",
       " 49,\n",
       " 50,\n",
       " 51,\n",
       " 52,\n",
       " 53,\n",
       " 54,\n",
       " 55,\n",
       " 56,\n",
       " 57,\n",
       " 58,\n",
       " 59,\n",
       " 60,\n",
       " 61,\n",
       " 62,\n",
       " 63,\n",
       " 64,\n",
       " 65,\n",
       " 66,\n",
       " 67,\n",
       " 68,\n",
       " 69,\n",
       " 70,\n",
       " 71,\n",
       " 72,\n",
       " 73,\n",
       " 74,\n",
       " 75,\n",
       " 76,\n",
       " 77,\n",
       " 78,\n",
       " 79,\n",
       " 80,\n",
       " 81,\n",
       " 82,\n",
       " 83,\n",
       " 84,\n",
       " 85,\n",
       " 86,\n",
       " 87,\n",
       " 88,\n",
       " 89,\n",
       " 90,\n",
       " 91,\n",
       " 92,\n",
       " 93,\n",
       " 94,\n",
       " 95,\n",
       " 96,\n",
       " 97,\n",
       " 98,\n",
       " 99,\n",
       " 100,\n",
       " 101,\n",
       " 102,\n",
       " 103,\n",
       " 104,\n",
       " 105,\n",
       " 106,\n",
       " 107,\n",
       " 108,\n",
       " 109,\n",
       " 110,\n",
       " 111,\n",
       " 112,\n",
       " 113,\n",
       " 114,\n",
       " 115,\n",
       " 116,\n",
       " 117,\n",
       " 118,\n",
       " 119,\n",
       " 120,\n",
       " 121,\n",
       " 122,\n",
       " 123,\n",
       " 124,\n",
       " 125,\n",
       " 126,\n",
       " 127,\n",
       " 128,\n",
       " 129,\n",
       " 130,\n",
       " 131,\n",
       " 132,\n",
       " 133,\n",
       " 134,\n",
       " 135,\n",
       " 136,\n",
       " 137,\n",
       " 138,\n",
       " 139,\n",
       " 140,\n",
       " 141,\n",
       " 142,\n",
       " 143}"
      ]
     },
     "execution_count": 23,
     "metadata": {},
     "output_type": "execute_result"
    }
   ],
   "source": [
    "core = next(nx.connected_components(G))\n",
    "core"
   ]
  },
  {
   "cell_type": "code",
   "execution_count": 24,
   "id": "8be1b450-4d7a-4054-893c-76ece99244e8",
   "metadata": {},
   "outputs": [
    {
     "data": {
      "text/plain": [
       "143"
      ]
     },
     "execution_count": 24,
     "metadata": {},
     "output_type": "execute_result"
    }
   ],
   "source": [
    "len(core)"
   ]
  },
  {
   "cell_type": "code",
   "execution_count": 25,
   "id": "0e8f1128-d36f-439a-992e-ce66106aa79d",
   "metadata": {},
   "outputs": [],
   "source": [
    "components = list(nx.connected_components(G))"
   ]
  },
  {
   "cell_type": "code",
   "execution_count": 26,
   "id": "e801caa0-6dd0-424f-a31e-7f1ef48e2af1",
   "metadata": {},
   "outputs": [
    {
     "data": {
      "text/plain": [
       "1"
      ]
     },
     "execution_count": 26,
     "metadata": {},
     "output_type": "execute_result"
    }
   ],
   "source": [
    "len(components)"
   ]
  },
  {
   "cell_type": "code",
   "execution_count": 27,
   "id": "713b458c-e287-41f0-a9cb-85f671761308",
   "metadata": {},
   "outputs": [],
   "source": [
    "C = G.copy()"
   ]
  },
  {
   "cell_type": "code",
   "execution_count": 28,
   "id": "953f2735-9621-482c-b489-2e565c42de00",
   "metadata": {},
   "outputs": [],
   "source": [
    "import random\n",
    "\n",
    "nodes_to_remove = random.sample(list(C.nodes), 2)\n",
    "C.remove_nodes_from(nodes_to_remove)"
   ]
  },
  {
   "cell_type": "code",
   "execution_count": 29,
   "id": "31866389-34d8-4ba1-af90-4097b82e21ad",
   "metadata": {},
   "outputs": [
    {
     "data": {
      "text/plain": [
       "5"
      ]
     },
     "execution_count": 29,
     "metadata": {},
     "output_type": "execute_result"
    }
   ],
   "source": [
    "number_of_steps = 25\n",
    "M = G.number_of_nodes() // number_of_steps\n",
    "M"
   ]
  },
  {
   "cell_type": "code",
   "execution_count": 30,
   "id": "e1670fbd-d06d-4e62-b8c3-edaf9cc2e09d",
   "metadata": {},
   "outputs": [],
   "source": [
    "num_nodes_removed = range(0, G.number_of_nodes(), M)"
   ]
  },
  {
   "cell_type": "code",
   "execution_count": 31,
   "id": "412c6212-71b4-4bfb-9f34-f7e922d939d1",
   "metadata": {},
   "outputs": [],
   "source": [
    "N = G.number_of_nodes()\n",
    "C = G.copy()\n",
    "random_attack_core_proportions = []\n",
    "for nodes_removed in num_nodes_removed:\n",
    "    # Measure the relative size of the network core\n",
    "    core = next(nx.connected_components(C))\n",
    "    core_proportion = len(core) / N\n",
    "    random_attack_core_proportions.append(core_proportion)\n",
    "    \n",
    "    # If there are more than M nodes, select M nodes at random and remove them\n",
    "    if C.number_of_nodes() > M:\n",
    "        nodes_to_remove = random.sample(list(C.nodes), M)\n",
    "        C.remove_nodes_from(nodes_to_remove)"
   ]
  },
  {
   "cell_type": "code",
   "execution_count": 32,
   "id": "ffa50a58-1174-4aff-a06c-ec84d34e8cd5",
   "metadata": {},
   "outputs": [
    {
     "data": {
      "text/plain": [
       "[<matplotlib.lines.Line2D at 0x1fba5cc5220>]"
      ]
     },
     "execution_count": 32,
     "metadata": {},
     "output_type": "execute_result"
    },
    {
     "data": {
      "image/png": "[encoded data removed]",
      "text/plain": [
       "<Figure size 432x288 with 1 Axes>"
      ]
     },
     "metadata": {
      "needs_background": "light"
     },
     "output_type": "display_data"
    }
   ],
   "source": [
    "plt.title('Random failure')\n",
    "plt.xlabel('Number of nodes removed')\n",
    "plt.ylabel('Proportion of nodes in core')\n",
    "plt.plot(num_nodes_removed, random_attack_core_proportions, marker='o')"
   ]
  },
  {
   "cell_type": "code",
   "execution_count": 33,
   "id": "619fe8d7-a8b7-4acf-b6d9-813346a816da",
   "metadata": {},
   "outputs": [
    {
     "data": {
      "text/plain": [
       "[105, 17, 95, 48, 132]"
      ]
     },
     "execution_count": 33,
     "metadata": {},
     "output_type": "execute_result"
    }
   ],
   "source": [
    "nodes_sorted_by_degree = sorted(G.nodes, key=G.degree, reverse=True)\n",
    "top_degree_nodes = nodes_sorted_by_degree[:M]\n",
    "top_degree_nodes"
   ]
  },
  {
   "cell_type": "code",
   "execution_count": 34,
   "id": "912615ab-e162-419a-ac1b-343325f64380",
   "metadata": {},
   "outputs": [],
   "source": [
    "N = G.number_of_nodes()\n",
    "number_of_steps = 25\n",
    "M = N // number_of_steps\n",
    "\n",
    "num_nodes_removed = range(0, N, M)\n",
    "C = G.copy()\n",
    "targeted_attack_core_proportions = []\n",
    "for nodes_removed in num_nodes_removed:\n",
    "    # Measure the relative size of the network core\n",
    "    core = next(nx.connected_components(C))\n",
    "    core_proportion = len(core) / N\n",
    "    targeted_attack_core_proportions.append(core_proportion)\n",
    "    \n",
    "    # If there are more than M nodes, select top M nodes and remove them\n",
    "    if C.number_of_nodes() > M:\n",
    "        nodes_sorted_by_degree = sorted(C.nodes, key=C.degree, reverse=True)\n",
    "        nodes_to_remove = nodes_sorted_by_degree[:M]\n",
    "        C.remove_nodes_from(nodes_to_remove)"
   ]
  },
  {
   "cell_type": "code",
   "execution_count": 35,
   "id": "5584db65-6ac9-431e-be1a-482a572a4c29",
   "metadata": {},
   "outputs": [
    {
     "data": {
      "text/plain": [
       "[<matplotlib.lines.Line2D at 0x1fba5d33070>]"
      ]
     },
     "execution_count": 35,
     "metadata": {},
     "output_type": "execute_result"
    },
    {
     "data": {
      "image/png": "[encoded data removed]",
      "text/plain": [
       "<Figure size 432x288 with 1 Axes>"
      ]
     },
     "metadata": {
      "needs_background": "light"
     },
     "output_type": "display_data"
    }
   ],
   "source": [
    "plt.title('Targeted attack')\n",
    "plt.xlabel('Number of nodes removed')\n",
    "plt.ylabel('Proportion of nodes in core')\n",
    "plt.plot(num_nodes_removed, targeted_attack_core_proportions, marker='o')"
   ]
  },
  {
   "cell_type": "code",
   "execution_count": 36,
   "id": "3a052403-f880-4e49-9375-facea37fb78b",
   "metadata": {},
   "outputs": [
    {
     "data": {
      "text/plain": [
       "<matplotlib.legend.Legend at 0x1fba5d93610>"
      ]
     },
     "execution_count": 36,
     "metadata": {},
     "output_type": "execute_result"
    },
    {
     "data": {
      "image/png": "[encoded data removed]",
      "text/plain": [
       "<Figure size 432x288 with 1 Axes>"
      ]
     },
     "metadata": {
      "needs_background": "light"
     },
     "output_type": "display_data"
    }
   ],
   "source": [
    "plt.title('Random failure vs. targeted attack')\n",
    "plt.xlabel('Number of nodes removed')\n",
    "plt.ylabel('Proportion of nodes in core')\n",
    "plt.plot(num_nodes_removed, random_attack_core_proportions, marker='o', label='Failures')\n",
    "plt.plot(num_nodes_removed, targeted_attack_core_proportions, marker='^', label='Attacks')\n",
    "plt.legend()"
   ]
  },
  {
   "cell_type": "code",
   "execution_count": null,
   "id": "ffa9b29f-aaef-4b7f-8b1b-8344d306c85f",
   "metadata": {},
   "outputs": [],
   "source": []
  }
 ],
 "metadata": {
  "kernelspec": {
   "display_name": "Python 3 (ipykernel)",
   "language": "python",
   "name": "python3"
  },
  "language_info": {
   "codemirror_mode": {
    "name": "ipython",
    "version": 3
   },
   "file_extension": ".py",
   "mimetype": "text/x-python",
   "name": "python",
   "nbconvert_exporter": "python",
   "pygments_lexer": "ipython3",
   "version": "3.9.7"
  }
 },
 "nbformat": 4,
 "nbformat_minor": 5
}
